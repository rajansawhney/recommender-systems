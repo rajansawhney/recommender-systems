{
 "cells": [
  {
   "cell_type": "markdown",
   "id": "f7e08796-f354-4fd5-a7ea-8d307682ea6e",
   "metadata": {},
   "source": [
    "# Collaborative Filtering using ALS "
   ]
  },
  {
   "cell_type": "markdown",
   "id": "5ead8abe-8351-4686-8dda-c80c4a0afb66",
   "metadata": {},
   "source": [
    "Recommender System is an information filtering tool that seeks to predict what product a user will like. Based on the predictions, products can be recommended to users."
   ]
  },
  {
   "cell_type": "code",
   "execution_count": 7,
   "id": "91683455-c967-4dad-8468-94f06f125f60",
   "metadata": {},
   "outputs": [],
   "source": [
    "import pandas as pd\n",
    "from pyspark.sql.functions import col, explode\n",
    "from pyspark.sql import SparkSession\n",
    "from pyspark import SparkContext\n",
    "\n",
    "import warnings\n",
    "warnings.filterwarnings('ignore')"
   ]
  },
  {
   "cell_type": "code",
   "execution_count": 11,
   "id": "ae334cab-41db-40f9-8a19-e8c61ade07ae",
   "metadata": {},
   "outputs": [],
   "source": [
    "DATA_DIR = 'data'"
   ]
  },
  {
   "cell_type": "markdown",
   "id": "c6c65220-feb8-49a0-ba1d-2cf707886651",
   "metadata": {},
   "source": [
    "### Initiate spark session"
   ]
  },
  {
   "cell_type": "code",
   "execution_count": 4,
   "id": "a018974f-646a-4767-a84c-63b7ca1cd166",
   "metadata": {},
   "outputs": [],
   "source": [
    "sc = SparkContext"
   ]
  },
  {
   "cell_type": "code",
   "execution_count": 20,
   "id": "09859db8-f473-4494-8f0f-aef3beb8b0cb",
   "metadata": {},
   "outputs": [],
   "source": [
    "spark = SparkSession.builder.\\\n",
    "        appName('Recommendations').getOrCreate()"
   ]
  },
  {
   "cell_type": "markdown",
   "id": "5d0e8797-a9d4-4dc0-8398-0533650f4bee",
   "metadata": {},
   "source": [
    "## Explicit v.s. Implicit data"
   ]
  },
  {
   "cell_type": "markdown",
   "id": "f62ad90c-9f9d-4b98-b7c1-dde8c8fcfff1",
   "metadata": {},
   "source": [
    "There are two ways to gather user preference data to recommend items.\n",
    "1. Explicit data:\n",
    "    - concrete rating scale. e.g.: rate the movie from 1-5 stars\n",
    "    - makes it easier to extrapolate from data to predict future ratings\n",
    "    - drawback: responsibility of data collection on the user,\n",
    "        who might not take the time to enter ratings\n",
    "\n",
    "\n",
    "\n",
    "2. Implicit data:\n",
    "    - easier to collect in large quantities without any extra effort on\n",
    "        part of the user\n",
    "    - more difficult to work with"
   ]
  },
  {
   "cell_type": "markdown",
   "id": "af3bcb6e-f575-4d62-9152-891ce3c82ad9",
   "metadata": {},
   "source": [
    "## Load data"
   ]
  },
  {
   "cell_type": "code",
   "execution_count": 12,
   "id": "360f9139-47f0-4c42-85a4-a31e41f4bbfd",
   "metadata": {},
   "outputs": [],
   "source": [
    "movies = spark.read.csv(f'{DATA_DIR}/movies.csv', header=True)"
   ]
  },
  {
   "cell_type": "code",
   "execution_count": 14,
   "id": "bccaee32-1095-4a94-a804-0501238e3e90",
   "metadata": {},
   "outputs": [],
   "source": [
    "ratings = spark.read.csv(f'{DATA_DIR}/ratings.csv', header=True)"
   ]
  },
  {
   "cell_type": "code",
   "execution_count": 18,
   "id": "d7068d72-b127-4961-9079-3d3a89bb3750",
   "metadata": {},
   "outputs": [
    {
     "name": "stdout",
     "output_type": "stream",
     "text": [
      "+------+-------+------+---------+\n",
      "|userId|movieId|rating|timestamp|\n",
      "+------+-------+------+---------+\n",
      "|     1|      1|   4.0|964982703|\n",
      "|     1|      3|   4.0|964981247|\n",
      "|     1|      6|   4.0|964982224|\n",
      "|     1|     47|   5.0|964983815|\n",
      "|     1|     50|   5.0|964982931|\n",
      "|     1|     70|   3.0|964982400|\n",
      "|     1|    101|   5.0|964980868|\n",
      "|     1|    110|   4.0|964982176|\n",
      "|     1|    151|   5.0|964984041|\n",
      "|     1|    157|   5.0|964984100|\n",
      "|     1|    163|   5.0|964983650|\n",
      "|     1|    216|   5.0|964981208|\n",
      "|     1|    223|   3.0|964980985|\n",
      "|     1|    231|   5.0|964981179|\n",
      "|     1|    235|   4.0|964980908|\n",
      "|     1|    260|   5.0|964981680|\n",
      "|     1|    296|   3.0|964982967|\n",
      "|     1|    316|   3.0|964982310|\n",
      "|     1|    333|   5.0|964981179|\n",
      "|     1|    349|   4.0|964982563|\n",
      "+------+-------+------+---------+\n",
      "only showing top 20 rows\n",
      "\n"
     ]
    }
   ],
   "source": [
    "ratings.show()"
   ]
  },
  {
   "cell_type": "code",
   "execution_count": 19,
   "id": "13f065bc-978b-4c81-983b-65ed016abeb9",
   "metadata": {},
   "outputs": [
    {
     "name": "stdout",
     "output_type": "stream",
     "text": [
      "root\n",
      " |-- userId: string (nullable = true)\n",
      " |-- movieId: string (nullable = true)\n",
      " |-- rating: string (nullable = true)\n",
      " |-- timestamp: string (nullable = true)\n",
      "\n"
     ]
    }
   ],
   "source": [
    "ratings.printSchema()"
   ]
  },
  {
   "cell_type": "code",
   "execution_count": 22,
   "id": "4cad23b6-cf23-4bfd-989b-2af373692fb7",
   "metadata": {},
   "outputs": [
    {
     "name": "stdout",
     "output_type": "stream",
     "text": [
      "+------+-------+------+\n",
      "|userId|movieId|rating|\n",
      "+------+-------+------+\n",
      "|     1|      1|   4.0|\n",
      "|     1|      3|   4.0|\n",
      "|     1|      6|   4.0|\n",
      "|     1|     47|   5.0|\n",
      "|     1|     50|   5.0|\n",
      "|     1|     70|   3.0|\n",
      "|     1|    101|   5.0|\n",
      "|     1|    110|   4.0|\n",
      "|     1|    151|   5.0|\n",
      "|     1|    157|   5.0|\n",
      "|     1|    163|   5.0|\n",
      "|     1|    216|   5.0|\n",
      "|     1|    223|   3.0|\n",
      "|     1|    231|   5.0|\n",
      "|     1|    235|   4.0|\n",
      "|     1|    260|   5.0|\n",
      "|     1|    296|   3.0|\n",
      "|     1|    316|   3.0|\n",
      "|     1|    333|   5.0|\n",
      "|     1|    349|   4.0|\n",
      "+------+-------+------+\n",
      "only showing top 20 rows\n",
      "\n"
     ]
    }
   ],
   "source": [
    "# convert strings to app. type\n",
    "ratings = ratings.\\\n",
    "    withColumn('userId', col('userId').cast('integer')).\\\n",
    "    withColumn('movieId', col('movieId').cast('integer')).\\\n",
    "    withColumn('rating', col('rating').cast('float')).\\\n",
    "    drop('timestamp')\n",
    "ratings.show()"
   ]
  },
  {
   "cell_type": "markdown",
   "id": "51d5a672-0396-4a04-b022-d9880c29ad7d",
   "metadata": {},
   "source": [
    "# Calculate sparsity"
   ]
  },
  {
   "cell_type": "markdown",
   "id": "2b7a49ed-dfc7-4db7-a7c9-0c2d4d897e43",
   "metadata": {},
   "source": [
    "In the real world, the utility matrix is expected to be very sparse, as each user only encounters a small fraction of items among the vast pool of options available.\n",
    "\n",
    "Cold start is a problems that we can run into during addition of a new user or a new item where both do not have ratings history."
   ]
  },
  {
   "cell_type": "code",
   "execution_count": 54,
   "id": "0312e5d5-7809-4312-b961-716a27a2e4c0",
   "metadata": {},
   "outputs": [
    {
     "name": "stdout",
     "output_type": "stream",
     "text": [
      "The ratings dataframe is 98.30% empty\n"
     ]
    }
   ],
   "source": [
    "# Count the total number of ratings in the dataset\n",
    "numerator = ratings.select('rating').count()\n",
    "# print('numerator:', numerator)\n",
    "\n",
    "# Count the number of distinct users and distint movies\n",
    "num_users = ratings.select('userId').distinct().count()\n",
    "# print('num_users:', num_users)\n",
    "num_movies = ratings.select('movieId').distinct().count()\n",
    "# print('num_movies:', num_movies)\n",
    "\n",
    "# Set the denominator equal to the number of users\n",
    "# multiplied by the number of movies\n",
    "denominator = num_users * num_movies\n",
    "# print('denominator:', denominator)\n",
    "\n",
    "# Divide the numerator by the denominator\n",
    "sparsity = (1.0 - numerator/denominator) * 100\n",
    "print('The ratings dataframe is', '%.2f' % sparsity + '% empty')"
   ]
  },
  {
   "cell_type": "markdown",
   "id": "18b20c9d-5dd3-49b3-8f0d-ea0ca5bac3ec",
   "metadata": {},
   "source": [
    "# Interpret ratings"
   ]
  },
  {
   "cell_type": "code",
   "execution_count": 33,
   "id": "ca3708b3-9d3e-448c-8ab8-f153174c3b0b",
   "metadata": {},
   "outputs": [],
   "source": [
    "# Group data by userId, count ratings\n",
    "userId_ratings = ratings.groupBy('userId').count().orderBy(\n",
    "    'count', ascending=False)"
   ]
  },
  {
   "cell_type": "code",
   "execution_count": 34,
   "id": "31af3966-1e98-4535-b02d-98763c4c0a94",
   "metadata": {},
   "outputs": [
    {
     "name": "stdout",
     "output_type": "stream",
     "text": [
      "+------+-----+\n",
      "|userId|count|\n",
      "+------+-----+\n",
      "|   414| 2698|\n",
      "|   599| 2478|\n",
      "|   474| 2108|\n",
      "|   448| 1864|\n",
      "|   274| 1346|\n",
      "|   610| 1302|\n",
      "|    68| 1260|\n",
      "|   380| 1218|\n",
      "|   606| 1115|\n",
      "|   288| 1055|\n",
      "|   249| 1046|\n",
      "|   387| 1027|\n",
      "|   182|  977|\n",
      "|   307|  975|\n",
      "|   603|  943|\n",
      "|   298|  939|\n",
      "|   177|  904|\n",
      "|   318|  879|\n",
      "|   232|  862|\n",
      "|   480|  836|\n",
      "+------+-----+\n",
      "only showing top 20 rows\n",
      "\n"
     ]
    }
   ],
   "source": [
    "userId_ratings.show()"
   ]
  },
  {
   "cell_type": "code",
   "execution_count": 37,
   "id": "345cbc16-75d4-488d-8ed1-1121c84965d1",
   "metadata": {},
   "outputs": [],
   "source": [
    "# Group data by movieId, count ratings\n",
    "movieId_ratings = ratings.groupBy('movieId').count().orderBy(\n",
    "                    'count', ascending=False)"
   ]
  },
  {
   "cell_type": "code",
   "execution_count": 38,
   "id": "752b3eec-8104-447c-ab01-11383c6fb532",
   "metadata": {},
   "outputs": [
    {
     "name": "stdout",
     "output_type": "stream",
     "text": [
      "+-------+-----+\n",
      "|movieId|count|\n",
      "+-------+-----+\n",
      "|    356|  329|\n",
      "|    318|  317|\n",
      "|    296|  307|\n",
      "|    593|  279|\n",
      "|   2571|  278|\n",
      "|    260|  251|\n",
      "|    480|  238|\n",
      "|    110|  237|\n",
      "|    589|  224|\n",
      "|    527|  220|\n",
      "|   2959|  218|\n",
      "|      1|  215|\n",
      "|   1196|  211|\n",
      "|   2858|  204|\n",
      "|     50|  204|\n",
      "|     47|  203|\n",
      "|    780|  202|\n",
      "|    150|  201|\n",
      "|   1198|  200|\n",
      "|   4993|  198|\n",
      "+-------+-----+\n",
      "only showing top 20 rows\n",
      "\n"
     ]
    }
   ],
   "source": [
    "movieId_ratings.show()"
   ]
  },
  {
   "cell_type": "markdown",
   "id": "fe9d104f-7e58-4744-8ed5-4a6c2a277deb",
   "metadata": {},
   "source": [
    "# Approaches to Recommendation"
   ]
  },
  {
   "cell_type": "markdown",
   "id": "2d27274c-2e81-4c10-b4a3-6ccc431fe242",
   "metadata": {},
   "source": [
    "The two widely used approaches for building a recommender system are:\n",
    "    1. Content-bases filtering (CBF) - most widely used\n",
    "    2. Collaborative filtering (CF) \n",
    "    \n",
    "The primary difference between the two approaches is that CF looks for similar users to recommend items while CBF looks for similar contents to recommend items."
   ]
  },
  {
   "cell_type": "markdown",
   "id": "91abf25f-6781-4fe0-8282-b22aa99cc6ba",
   "metadata": {},
   "source": [
    "# Content-based Filtering (CBF)"
   ]
  },
  {
   "cell_type": "markdown",
   "id": "4c844de5-f0f6-4564-aa49-a9b2d5355297",
   "metadata": {},
   "source": [
    "The main idea behind CBF is to recommend items similar to the items previously liked by the user. Example: if user rated some items in the past, than these items are used for _user-modeling_ where the user's interests are quantified.\n",
    "\n",
    "Given a new item $x$, the likeness (rating) of the item is predicted using the user model.\n",
    "\n",
    "This can be achieved in two different ways:\n",
    "- Predicting ratings using parametric models like regression or logistic \n",
    "    regression for multiple ratings and binary ratings\n",
    "\n",
    "- Similarity based techniques using distance measures to find similar \n",
    "    items to the items liked by the user based on item features"
   ]
  },
  {
   "cell_type": "markdown",
   "id": "59de6a52-96a0-481d-ae88-6af53275c565",
   "metadata": {},
   "source": [
    "CBF can be applied even when a strong user-base is not built, as it depends on the item's meta data (features) therefore does not suffer from cold-start problem.\n",
    "\n",
    "However:\n",
    "- this also makes it computationally intensive, as similarities between \n",
    "    each user and all the items must be computed.\n",
    "- since the recommendations are based on item similarity to the item that \n",
    "    the user already knows about, it leaves no room for serendepidity and \n",
    "    causes over specialisation\n",
    "- CBF also ignores popularity of an item and other users' feedbacks \n",
    "   "
   ]
  },
  {
   "cell_type": "markdown",
   "id": "57f0d731-521e-4e65-a6e1-e3d00729cade",
   "metadata": {},
   "source": [
    "# Collaborative filtering (CF)"
   ]
  },
  {
   "cell_type": "markdown",
   "id": "a9372a2f-144b-4599-823e-ef0241a644a0",
   "metadata": {},
   "source": [
    "Collaborative filtering aggregates the past behaviour of all users. It recommends items to a user based on the items liked by another set of users whose likes (and dislikes) are similar to the user under consideration. This approach is also called the _user-user_ based CF.\n",
    "\n"
   ]
  },
  {
   "cell_type": "markdown",
   "id": "9d2e6002-f181-48ca-ac23-537c68ed67fc",
   "metadata": {},
   "source": [
    "# Build the ALS model"
   ]
  },
  {
   "cell_type": "code",
   "execution_count": 39,
   "id": "298f080f-e6c0-4c08-b163-10701c5fab60",
   "metadata": {},
   "outputs": [],
   "source": [
    "# Import the required functions\n",
    "from pyspark.ml.evaluation import RegressionEvaluator\n",
    "from pyspark.ml.recommendation import ALS\n",
    "from pyspark.ml.tuning import ParamGridBuilder, CrossValidator"
   ]
  },
  {
   "cell_type": "code",
   "execution_count": 41,
   "id": "33306bed-7d00-44f9-b651-7796dbd7e9aa",
   "metadata": {},
   "outputs": [
    {
     "data": {
      "text/plain": [
       "pyspark.ml.recommendation.ALS"
      ]
     },
     "execution_count": 41,
     "metadata": {},
     "output_type": "execute_result"
    }
   ],
   "source": [
    "# Create test and train set\n",
    "(train, test) = ratings.randomSplit([0.8, 0.2], seed = 1234)\n",
    "\n",
    "# Create ALS model\n",
    "als = ALS(userCol='userId',\n",
    "          itemCol='movieId',\n",
    "          ratingCol='rating',\n",
    "          nonnegative=True,\n",
    "          implicitPrefs=False,\n",
    "          coldStartStrategy='drop')\n",
    "\n",
    "# Confirm model type\n",
    "type(als)"
   ]
  },
  {
   "cell_type": "markdown",
   "id": "4010500a-14a6-485a-a161-d1ac18c7f60e",
   "metadata": {},
   "source": [
    "# Hypertuning the ALS model"
   ]
  },
  {
   "cell_type": "code",
   "execution_count": 42,
   "id": "b00d2a0f-3ca4-478b-ae91-c72407e6ac60",
   "metadata": {},
   "outputs": [
    {
     "name": "stdout",
     "output_type": "stream",
     "text": [
      "Num models to be tested:  16\n"
     ]
    }
   ],
   "source": [
    "# Add hyperparameters and their respective values to param_grid\n",
    "param_grid = ParamGridBuilder() \\\n",
    "                .addGrid(als.rank, [10, 50, 100, 150]) \\\n",
    "                .addGrid(als.regParam, [.01, .05, .1, .15]) \\\n",
    "                .build()\n",
    "\n",
    "# Define evaluator as RMSE and print length of evaluator\n",
    "evaluator = RegressionEvaluator(metricName=\"rmse\",\n",
    "                                labelCol=\"rating\",\n",
    "                                predictionCol=\"prediction\")\n",
    "print(\"Num models to be tested: \", len(param_grid))"
   ]
  },
  {
   "cell_type": "markdown",
   "id": "71c30bba-a030-46a8-af4f-5adeff07e709",
   "metadata": {},
   "source": [
    "# Building the cross validation pipeline"
   ]
  },
  {
   "cell_type": "code",
   "execution_count": 43,
   "id": "5754b450-6c54-47ae-a46a-fb30b32c2c85",
   "metadata": {},
   "outputs": [
    {
     "data": {
      "text/plain": [
       "CrossValidator_0b0f6f08cb52"
      ]
     },
     "execution_count": 43,
     "metadata": {},
     "output_type": "execute_result"
    }
   ],
   "source": [
    "# Build cross validation using CrossValidator\n",
    "cv = CrossValidator(estimator=als,\n",
    "                    estimatorParamMaps=param_grid,\n",
    "                    evaluator=evaluator,\n",
    "                    numFolds=5)\n",
    "\n",
    "cv"
   ]
  },
  {
   "cell_type": "markdown",
   "id": "6870882a-bd91-41a0-b4a8-10bd8449d301",
   "metadata": {},
   "source": [
    "# Get best model and model parameters"
   ]
  },
  {
   "cell_type": "code",
   "execution_count": 44,
   "id": "a89bac55-eae7-4e42-b08c-9f0339e3858c",
   "metadata": {},
   "outputs": [
    {
     "name": "stderr",
     "output_type": "stream",
     "text": [
      "21/10/03 18:29:12 WARN BLAS: Failed to load implementation from: com.github.fommil.netlib.NativeSystemBLAS\n",
      "21/10/03 18:29:12 WARN BLAS: Failed to load implementation from: com.github.fommil.netlib.NativeRefBLAS\n",
      "                                                                                \r"
     ]
    }
   ],
   "source": [
    "# Fit cross validator to the 'train' dataset\n",
    "model = cv.fit(train)\n",
    "\n",
    "# Extract best model from the cv model above\n",
    "best_model = model.bestModel"
   ]
  },
  {
   "cell_type": "code",
   "execution_count": 45,
   "id": "7020badb-805c-4674-8228-9e923d8e4573",
   "metadata": {},
   "outputs": [
    {
     "name": "stdout",
     "output_type": "stream",
     "text": [
      "Best model:\n",
      "\n",
      "  Rank: 50\n",
      "  MaxIter: 10\n",
      "  RegParam: 0.15\n"
     ]
    }
   ],
   "source": [
    "print(\"Best model:\\n\")\n",
    "print(\"  Rank:\", best_model._java_obj.parent().getRank())\n",
    "print(\"  MaxIter:\", best_model._java_obj.parent().getMaxIter())\n",
    "print(\"  RegParam:\", best_model._java_obj.parent().getRegParam())"
   ]
  },
  {
   "cell_type": "code",
   "execution_count": 46,
   "id": "57cd688e-3118-4ec3-96ca-f77a36e74476",
   "metadata": {},
   "outputs": [
    {
     "name": "stderr",
     "output_type": "stream",
     "text": [
      "[Stage 6797:============================================>      (174 + 12) / 200]\r"
     ]
    },
    {
     "name": "stdout",
     "output_type": "stream",
     "text": [
      "0.8686031234435\n"
     ]
    },
    {
     "name": "stderr",
     "output_type": "stream",
     "text": [
      "                                                                                \r"
     ]
    }
   ],
   "source": [
    "# View the predictions\n",
    "test_predictions = best_model.transform(test)\n",
    "RMSE = evaluator.evaluate(test_predictions)\n",
    "print(RMSE)"
   ]
  },
  {
   "cell_type": "code",
   "execution_count": 47,
   "id": "6c92afcb-64f9-46a6-a3f6-39db1c0fb5e6",
   "metadata": {},
   "outputs": [
    {
     "name": "stderr",
     "output_type": "stream",
     "text": [
      "[Stage 6826:==============================================>    (183 + 12) / 200]\r"
     ]
    },
    {
     "name": "stdout",
     "output_type": "stream",
     "text": [
      "+------+-------+------+----------+\n",
      "|userId|movieId|rating|prediction|\n",
      "+------+-------+------+----------+\n",
      "|   597|    471|   2.0| 4.1380954|\n",
      "|   436|    471|   3.0|   3.59407|\n",
      "|   218|    471|   4.0| 3.0229354|\n",
      "|   387|    471|   3.0| 2.9660947|\n",
      "|   217|    471|   2.0| 2.8500836|\n",
      "|   287|    471|   4.5| 2.8535714|\n",
      "|    32|    471|   3.0| 3.7028766|\n",
      "|   260|    471|   4.5|  3.564133|\n",
      "|   104|    471|   4.5|   3.51176|\n",
      "|   111|   1088|   3.0|  3.344483|\n",
      "|   177|   1088|   3.5|  3.540231|\n",
      "|    41|   1088|   1.5| 2.5977957|\n",
      "|   387|   1088|   1.5| 2.6075828|\n",
      "|   594|   1088|   4.5|   4.45407|\n",
      "|   307|   1088|   3.0| 2.7343934|\n",
      "|   509|   1088|   3.0| 3.1654263|\n",
      "|   104|   1088|   3.0| 3.6615238|\n",
      "|   268|   1238|   5.0|  3.864694|\n",
      "|   462|   1238|   3.5| 3.6027348|\n",
      "|   307|   1342|   2.0| 2.1763792|\n",
      "+------+-------+------+----------+\n",
      "only showing top 20 rows\n",
      "\n"
     ]
    },
    {
     "name": "stderr",
     "output_type": "stream",
     "text": [
      "                                                                                \r"
     ]
    }
   ],
   "source": [
    "test_predictions.show()"
   ]
  },
  {
   "cell_type": "markdown",
   "id": "23ae742d-397f-464e-ab21-0ffc7dd4ac1d",
   "metadata": {},
   "source": [
    "# Make recommendations"
   ]
  },
  {
   "cell_type": "code",
   "execution_count": 49,
   "id": "80d93d52-9209-417e-9b59-8c1734183f00",
   "metadata": {},
   "outputs": [
    {
     "name": "stderr",
     "output_type": "stream",
     "text": [
      "[Stage 6853:===============================================>   (187 + 12) / 200]\r"
     ]
    },
    {
     "name": "stdout",
     "output_type": "stream",
     "text": [
      "+------+--------------------+\n",
      "|userId|     recommendations|\n",
      "+------+--------------------+\n",
      "|   471|[{3379, 4.8430214...|\n",
      "|   463|[{3379, 4.9695063...|\n",
      "|   496|[{3379, 4.633355}...|\n",
      "|   148|[{33649, 4.555777...|\n",
      "|   540|[{3379, 5.351739}...|\n",
      "|   392|[{3379, 4.758028}...|\n",
      "|   243|[{3379, 5.659164}...|\n",
      "|    31|[{33649, 5.207429...|\n",
      "|   516|[{4429, 4.8151984...|\n",
      "|   580|[{3379, 4.772037}...|\n",
      "+------+--------------------+\n",
      "\n"
     ]
    },
    {
     "name": "stderr",
     "output_type": "stream",
     "text": [
      "                                                                                \r"
     ]
    }
   ],
   "source": [
    "# Generate n recommendations for all users\n",
    "n_recommendations = best_model.recommendForAllUsers(10)\n",
    "n_recommendations.limit(10).show()"
   ]
  },
  {
   "cell_type": "code",
   "execution_count": 50,
   "id": "797fe65a-faf7-451d-8eaa-8f7129aa7d20",
   "metadata": {},
   "outputs": [],
   "source": [
    "n_recommendations = n_recommendations\\\n",
    "    .withColumn(\"rec_exp\", explode(\"recommendations\"))\\\n",
    "    .select(\"userId\", col(\"rec_exp.movieId\"),\n",
    "            col(\"rec_exp.rating\"))"
   ]
  },
  {
   "cell_type": "code",
   "execution_count": 51,
   "id": "aa72c689-993e-481e-8ac3-367ecc53c693",
   "metadata": {},
   "outputs": [
    {
     "name": "stderr",
     "output_type": "stream",
     "text": [
      "[Stage 6878:============================================>       (86 + 12) / 100]\r"
     ]
    },
    {
     "name": "stdout",
     "output_type": "stream",
     "text": [
      "+------+-------+---------+\n",
      "|userId|movieId|   rating|\n",
      "+------+-------+---------+\n",
      "|   471|   3379|4.8430214|\n",
      "|   471|  33649|4.5660295|\n",
      "|   471| 171495| 4.553143|\n",
      "|   471|  86781|4.5139523|\n",
      "|   471|   7096|4.4966307|\n",
      "|   471| 100714|4.4645295|\n",
      "|   471|  78836| 4.455993|\n",
      "|   471|   7767|4.4456406|\n",
      "|   471|  26073| 4.419719|\n",
      "|   471| 117531| 4.419719|\n",
      "+------+-------+---------+\n",
      "\n"
     ]
    },
    {
     "name": "stderr",
     "output_type": "stream",
     "text": [
      "                                                                                \r"
     ]
    }
   ],
   "source": [
    "n_recommendations.limit(10).show()"
   ]
  },
  {
   "cell_type": "markdown",
   "id": "232309e1-c256-483b-bbeb-46641ceb5112",
   "metadata": {},
   "source": [
    "# Making sense of the recommendation"
   ]
  },
  {
   "cell_type": "markdown",
   "id": "c44a3bd3-6819-4e64-a394-1377f137dea9",
   "metadata": {},
   "source": [
    "### Merge movie names and genres to the recommendations matrix for interpretability"
   ]
  },
  {
   "cell_type": "code",
   "execution_count": 52,
   "id": "995b6a5c-22cc-4e5d-9b30-b7be37ad234a",
   "metadata": {},
   "outputs": [
    {
     "name": "stdout",
     "output_type": "stream",
     "text": [
      "+-------+------+---------+--------------------+--------------------+\n",
      "|movieId|userId|   rating|               title|              genres|\n",
      "+-------+------+---------+--------------------+--------------------+\n",
      "|  71579|    10|4.5206785|Education, An (2009)|       Drama|Romance|\n",
      "| 113275|    10| 4.349285|The Hundred-Foot ...|        Comedy|Drama|\n",
      "|  51705|    10|4.2712903|Priceless (Hors d...|      Comedy|Romance|\n",
      "|  94070|    10| 4.228056|Best Exotic Marig...|        Comedy|Drama|\n",
      "|   7169|    10| 4.189049|Chasing Liberty (...|      Comedy|Romance|\n",
      "|   3086|    10| 4.132452|Babes in Toyland ...|Children|Comedy|F...|\n",
      "|  42730|    10|4.0880737|   Glory Road (2006)|               Drama|\n",
      "|  67618|    10| 4.067024|Strictly Sexual (...|Comedy|Drama|Romance|\n",
      "|  25906|    10| 4.045791|Mr. Skeffington (...|       Drama|Romance|\n",
      "|  77846|    10| 4.045791| 12 Angry Men (1997)|         Crime|Drama|\n",
      "+-------+------+---------+--------------------+--------------------+\n",
      "\n"
     ]
    }
   ],
   "source": [
    "n_recommendations.join(movies, on=\"movieId\")\\\n",
    "    .filter(\"userId = 10\").show()"
   ]
  },
  {
   "cell_type": "code",
   "execution_count": 53,
   "id": "4d702153-5957-4bbd-b3b8-d7d324784ffd",
   "metadata": {},
   "outputs": [
    {
     "name": "stdout",
     "output_type": "stream",
     "text": [
      "+-------+------+------+--------------------+--------------------+\n",
      "|movieId|userId|rating|               title|              genres|\n",
      "+-------+------+------+--------------------+--------------------+\n",
      "|   1101|   100|   5.0|      Top Gun (1986)|      Action|Romance|\n",
      "|   1958|   100|   5.0|Terms of Endearme...|        Comedy|Drama|\n",
      "|   2423|   100|   5.0|Christmas Vacatio...|              Comedy|\n",
      "|   4041|   100|   5.0|Officer and a Gen...|       Drama|Romance|\n",
      "|   5620|   100|   5.0|Sweet Home Alabam...|      Comedy|Romance|\n",
      "|    368|   100|   4.5|     Maverick (1994)|Adventure|Comedy|...|\n",
      "|    934|   100|   4.5|Father of the Bri...|              Comedy|\n",
      "|    539|   100|   4.5|Sleepless in Seat...|Comedy|Drama|Romance|\n",
      "|     16|   100|   4.5|       Casino (1995)|         Crime|Drama|\n",
      "|    553|   100|   4.5|    Tombstone (1993)|Action|Drama|Western|\n",
      "+-------+------+------+--------------------+--------------------+\n",
      "\n"
     ]
    }
   ],
   "source": [
    "ratings.join(movies, on=\"movieId\").filter(\"userId = 100\").\\\n",
    "    sort(\"rating\", ascending=False).limit(10).show()"
   ]
  },
  {
   "cell_type": "code",
   "execution_count": null,
   "id": "8f271080-5a52-4a74-bc6d-93b5aa892421",
   "metadata": {},
   "outputs": [],
   "source": []
  }
 ],
 "metadata": {
  "kernelspec": {
   "display_name": "Python 3 (ipykernel)",
   "language": "python",
   "name": "python3"
  },
  "language_info": {
   "codemirror_mode": {
    "name": "ipython",
    "version": 3
   },
   "file_extension": ".py",
   "mimetype": "text/x-python",
   "name": "python",
   "nbconvert_exporter": "python",
   "pygments_lexer": "ipython3",
   "version": "3.9.0"
  }
 },
 "nbformat": 4,
 "nbformat_minor": 5
}
